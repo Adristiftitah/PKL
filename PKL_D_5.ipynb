{
  "nbformat": 4,
  "nbformat_minor": 0,
  "metadata": {
    "colab": {
      "name": "PKL D-5.ipynb",
      "provenance": [],
      "authorship_tag": "ABX9TyMtoklvVJ0nugoVZk7dD12n",
      "include_colab_link": true
    },
    "kernelspec": {
      "name": "python3",
      "display_name": "Python 3"
    },
    "language_info": {
      "name": "python"
    }
  },
  "cells": [
    {
      "cell_type": "markdown",
      "metadata": {
        "id": "view-in-github",
        "colab_type": "text"
      },
      "source": [
        "<a href=\"https://colab.research.google.com/github/Adristiftitah/PKL/blob/main/PKL_D_5.ipynb\" target=\"_parent\"><img src=\"https://colab.research.google.com/assets/colab-badge.svg\" alt=\"Open In Colab\"/></a>"
      ]
    },
    {
      "cell_type": "code",
      "metadata": {
        "colab": {
          "base_uri": "https://localhost:8080/"
        },
        "id": "Jpyo6Lg60n_Q",
        "outputId": "af25fd20-bcf8-4267-bc03-05b7f8e64e62"
      },
      "source": [
        "print(\"Hello Guru-Guru TKJ!\")\n",
        "print(\"Belajar Python dari Nol\")\n",
        "nama = \"Eljava Mifzal Herbiyan\"\n",
        "print(nama)"
      ],
      "execution_count": 2,
      "outputs": [
        {
          "output_type": "stream",
          "text": [
            "Hello Guru-Guru TKJ!\n",
            "Belajar Python dari Nol\n",
            "Eljava Mifzal Herbiyan\n"
          ],
          "name": "stdout"
        }
      ]
    },
    {
      "cell_type": "markdown",
      "metadata": {
        "id": "UQL9DGbX2V7s"
      },
      "source": [
        "**Penulisan String pada Python**"
      ]
    },
    {
      "cell_type": "code",
      "metadata": {
        "id": "UJQpZZDZ2cJ6"
      },
      "source": [
        "nama = \"Eljava Mifzal Herbiyan\"\n",
        "kelas = \"TKJ - 01\"\n",
        "\n",
        "#tidak menampilkanhasilnya karna fungsi print belum dipanggil"
      ],
      "execution_count": 4,
      "outputs": []
    },
    {
      "cell_type": "markdown",
      "metadata": {
        "id": "J0H9Psru230V"
      },
      "source": [
        "**Penulisan Case pada Python**"
      ]
    },
    {
      "cell_type": "code",
      "metadata": {
        "id": "9g54FizA3L_0"
      },
      "source": [
        "## Snake Case digunakan pada: \n",
        "module nama, package name, method name, function nama, global var name, \n",
        "global var name, isinstance var name, function parameter name, local var name.\n",
        "\n",
        "# CamelCase digunakan Pada:\n",
        "ClassName, ExpectionName\n",
        "\n",
        "## ALL CAPS digunakan pada:\n",
        "GLOBAL_CONSTANT_NAME\n"
      ],
      "execution_count": null,
      "outputs": []
    },
    {
      "cell_type": "markdown",
      "metadata": {
        "id": "m_Om6pjH6r_M"
      },
      "source": [
        "**Penulisan Blok Program**"
      ]
    },
    {
      "cell_type": "code",
      "metadata": {
        "colab": {
          "base_uri": "https://localhost:8080/"
        },
        "id": "st70lUZF6xFL",
        "outputId": "fdb7dc32-2162-4932-81b8-c9166378696e"
      },
      "source": [
        "#blok percabangan if\n",
        "username = \"eljava\"\n",
        "\n",
        "if username == 'eljava':\n",
        "  print(\"Selamat Datang Admin\")\n",
        "  print(\"Silahkan ambil tempat duduk\")\n",
        "# menambahkan 'username=\"eljava' untuk mendeklarasikan variabel username\"\n",
        "\n",
        "#blok percabangan for\n",
        "for i in range(10):\n",
        "  print (i)\n",
        "# untuk menampilkan sebuah stetment perintah print variabel harus didalam kurung"
      ],
      "execution_count": 12,
      "outputs": [
        {
          "output_type": "stream",
          "text": [
            "Selamat Datang Admin\n",
            "Silahkan ambil tempat duduk\n",
            "0\n",
            "1\n",
            "2\n",
            "3\n",
            "4\n",
            "5\n",
            "6\n",
            "7\n",
            "8\n",
            "9\n"
          ],
          "name": "stdout"
        }
      ]
    },
    {
      "cell_type": "markdown",
      "metadata": {
        "id": "FjJuk6DZ9Gwi"
      },
      "source": [
        "**Penulisan Komentar**"
      ]
    },
    {
      "cell_type": "code",
      "metadata": {
        "id": "mP8WmXOo9OHz"
      },
      "source": [
        "MENGGUNAKAN PAGAR \n",
        "\n",
        "#ini adalah komentar\n",
        "# ini juga komentar\n",
        "\n",
        "MENGGUNAKAN TANDA PETIK\n",
        "\"Ini adalah komentar dengan tanda petik ganda\"\n",
        "'Ini juga komentar, tapi dengan tanda petik tunggal'\n",
        "\n",
        "#penulisan komentar tidak disarankan menggunakan tanda petik karena sistem menganggap itu sebuah variabel yang harus ditampilkan"
      ],
      "execution_count": null,
      "outputs": []
    },
    {
      "cell_type": "markdown",
      "metadata": {
        "id": "Bx_QVVKs-1fd"
      },
      "source": [
        "**Input dari Keyboard**"
      ]
    },
    {
      "cell_type": "code",
      "metadata": {
        "colab": {
          "base_uri": "https://localhost:8080/"
        },
        "id": "N96e7nUR-6MZ",
        "outputId": "e9e6dafc-b143-4bc5-a1eb-132eabe5e1c6"
      },
      "source": [
        "#Mengambil input\n",
        "nama = input(\"Siapa nama kamu ? \")\n",
        "umur = input(\"Berapa umur kamu ? \")\n",
        "\n",
        "#Menampilkan output\n",
        "print (\"Hello\",nama,\"umur kamu adalah\",umur,\"tahun\")\n",
        "\n",
        "# perintah input harus diikutkan agar sistem mengetahui bahwa user memasukan sebuah variabel"
      ],
      "execution_count": 13,
      "outputs": [
        {
          "output_type": "stream",
          "text": [
            "Siapa nama kamu ? Adristi\n",
            "Berapa umur kamu ? 20\n",
            "Hello Adristi umur kamu adalah 20 tahun\n"
          ],
          "name": "stdout"
        }
      ]
    },
    {
      "cell_type": "code",
      "metadata": {
        "colab": {
          "base_uri": "https://localhost:8080/"
        },
        "id": "mKOVDb1YAjWF",
        "outputId": "4e5334df-03ce-499c-fea8-a49fe14f5c78"
      },
      "source": [
        "nama_variabel = input(\"sebuah text \")\n",
        "print (\"Hello World!\")\n",
        "print (nama_variabel)\n",
        "print (\"Gabung dengan \" + nama_variabel)\n",
        "\n",
        "# tidak bisa tampil karna belum mendeklarasikan nama variabel lalu variabel harus berada dalam kurung"
      ],
      "execution_count": 19,
      "outputs": [
        {
          "output_type": "stream",
          "text": [
            "sebuah text Hai\n",
            "Hello World!\n",
            "Hai\n",
            "Gabung dengan Hai\n"
          ],
          "name": "stdout"
        }
      ]
    },
    {
      "cell_type": "markdown",
      "metadata": {
        "id": "FwssfVmLDG85"
      },
      "source": [
        "**Tipe Data**"
      ]
    },
    {
      "cell_type": "code",
      "metadata": {
        "colab": {
          "base_uri": "https://localhost:8080/"
        },
        "id": "TFqXdOGlDN2J",
        "outputId": "a74c1a2d-e629-4a1a-8f44-291d96dac5bc"
      },
      "source": [
        "harga = 12000 #tipe int\n",
        "berat = 23.12 #float\n",
        "jarak = 3e3 #float 3000.0, huruf 3 artinya eksponen 10(eksponen artinya perkalian)\n",
        "\n",
        "print(harga, berat, jarak)"
      ],
      "execution_count": 23,
      "outputs": [
        {
          "output_type": "stream",
          "text": [
            "12000 23.12 3000.0\n"
          ],
          "name": "stdout"
        }
      ]
    },
    {
      "cell_type": "code",
      "metadata": {
        "colab": {
          "base_uri": "https://localhost:8080/"
        },
        "id": "KoKcGnrmENvx",
        "outputId": "d476ad3b-fc2d-4fc0-a6e5-aa2ab17e9109"
      },
      "source": [
        "nama = \"Adristi Iftitah Yuniar\"\n",
        "jenis_kelamin = 'P'\n",
        "alamat = \"\"\"\n",
        "      Graha Gardenia, D9. RT/RW 02/14,\n",
        "      Saptorenggo, Malang\n",
        "\"\"\"\n",
        "agama = 'Islam'\n",
        "\n",
        "print (\"Nama: \",nama,\";\",\"Jenis Kelamin: \",jenis_kelamin,\";\",\"Alamat: \",alamat,\"Agama : \",agama)"
      ],
      "execution_count": 30,
      "outputs": [
        {
          "output_type": "stream",
          "text": [
            "Nama:  Adristi Iftitah Yuniar ; Jenis Kelamin:  P ; Alamat:  \n",
            "      Graha Gardenia, D9. RT/RW 02/14,\n",
            "      Saptorenggo, Malang\n",
            " Agama :  Islam\n"
          ],
          "name": "stdout"
        }
      ]
    },
    {
      "cell_type": "code",
      "metadata": {
        "id": "ZfAsWZCuGvAZ"
      },
      "source": [
        "nyala = True \n",
        "nyala = 1 #Nilai 1 tipe int, tapi bisa menjadi bool"
      ],
      "execution_count": 32,
      "outputs": []
    },
    {
      "cell_type": "markdown",
      "metadata": {
        "id": "A7xKyPnOHEvb"
      },
      "source": [
        "**Konversi Tipe Data**"
      ]
    },
    {
      "cell_type": "code",
      "metadata": {
        "colab": {
          "base_uri": "https://localhost:8080/"
        },
        "id": "GELuPNHYHZEj",
        "outputId": "86eaf8d7-16b2-4890-946b-a4b02a32996e"
      },
      "source": [
        "a = 10\n",
        "b = 3\n",
        "c = a / b\n",
        "\n",
        "print (c)"
      ],
      "execution_count": 34,
      "outputs": [
        {
          "output_type": "stream",
          "text": [
            "3.3333333333333335\n"
          ],
          "name": "stdout"
        }
      ]
    },
    {
      "cell_type": "code",
      "metadata": {
        "colab": {
          "base_uri": "https://localhost:8080/"
        },
        "id": "G-OaQ1ciHkVu",
        "outputId": "ebfe48be-f273-4ea9-c550-949198d9c442"
      },
      "source": [
        "a = 10\n",
        "b = 3\n",
        "c = float(a) / float(b) #output: 3.3333333333333335\n",
        "print (c)"
      ],
      "execution_count": 35,
      "outputs": [
        {
          "output_type": "stream",
          "text": [
            "3.3333333333333335\n"
          ],
          "name": "stdout"
        }
      ]
    }
  ]
}