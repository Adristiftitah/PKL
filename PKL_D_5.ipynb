{
  "nbformat": 4,
  "nbformat_minor": 0,
  "metadata": {
    "colab": {
      "name": "PKL D-5.ipynb",
      "provenance": [],
      "authorship_tag": "ABX9TyN+O9M6qBLg5FJXVqDT88AA",
      "include_colab_link": true
    },
    "kernelspec": {
      "name": "python3",
      "display_name": "Python 3"
    },
    "language_info": {
      "name": "python"
    }
  },
  "cells": [
    {
      "cell_type": "markdown",
      "metadata": {
        "id": "view-in-github",
        "colab_type": "text"
      },
      "source": [
        "<a href=\"https://colab.research.google.com/github/Adristiftitah/PKL/blob/main/PKL_D_5.ipynb\" target=\"_parent\"><img src=\"https://colab.research.google.com/assets/colab-badge.svg\" alt=\"Open In Colab\"/></a>"
      ]
    },
    {
      "cell_type": "code",
      "metadata": {
        "colab": {
          "base_uri": "https://localhost:8080/"
        },
        "id": "Jpyo6Lg60n_Q",
        "outputId": "af25fd20-bcf8-4267-bc03-05b7f8e64e62"
      },
      "source": [
        "print(\"Hello Guru-Guru TKJ!\")\n",
        "print(\"Belajar Python dari Nol\")\n",
        "nama = \"Eljava Mifzal Herbiyan\"\n",
        "print(nama)"
      ],
      "execution_count": 2,
      "outputs": [
        {
          "output_type": "stream",
          "text": [
            "Hello Guru-Guru TKJ!\n",
            "Belajar Python dari Nol\n",
            "Eljava Mifzal Herbiyan\n"
          ],
          "name": "stdout"
        }
      ]
    },
    {
      "cell_type": "markdown",
      "metadata": {
        "id": "UQL9DGbX2V7s"
      },
      "source": [
        "**Penulisan String pada Python**"
      ]
    },
    {
      "cell_type": "code",
      "metadata": {
        "id": "UJQpZZDZ2cJ6"
      },
      "source": [
        "nama = \"Eljava Mifzal Herbiyan\"\n",
        "kelas = \"TKJ - 01\"\n",
        "\n",
        "#tidak menampilkanhasilnya karna fungsi print belum dipanggil"
      ],
      "execution_count": 4,
      "outputs": []
    },
    {
      "cell_type": "markdown",
      "metadata": {
        "id": "J0H9Psru230V"
      },
      "source": [
        "**Penulisan Case pada Python**"
      ]
    },
    {
      "cell_type": "code",
      "metadata": {
        "id": "9g54FizA3L_0"
      },
      "source": [
        "## Snake Case digunakan pada: \n",
        "module nama, package name, method name, function nama, global var name, \n",
        "global var name, isinstance var name, function parameter name, local var name.\n",
        "\n",
        "# CamelCase digunakan Pada:\n",
        "ClassName, ExpectionName\n",
        "\n",
        "## ALL CAPS digunakan pada:\n",
        "GLOBAL_CONSTANT_NAME\n"
      ],
      "execution_count": null,
      "outputs": []
    },
    {
      "cell_type": "markdown",
      "metadata": {
        "id": "m_Om6pjH6r_M"
      },
      "source": [
        "**Penulisan Blok Program**"
      ]
    },
    {
      "cell_type": "code",
      "metadata": {
        "colab": {
          "base_uri": "https://localhost:8080/"
        },
        "id": "st70lUZF6xFL",
        "outputId": "fdb7dc32-2162-4932-81b8-c9166378696e"
      },
      "source": [
        "#blok percabangan if\n",
        "username = \"eljava\"\n",
        "\n",
        "if username == 'eljava':\n",
        "  print(\"Selamat Datang Admin\")\n",
        "  print(\"Silahkan ambil tempat duduk\")\n",
        "# menambahkan 'username=\"eljava' untuk mendeklarasikan variabel username\"\n",
        "\n",
        "#blok percabangan for\n",
        "for i in range(10):\n",
        "  print (i)\n",
        "# untuk menampilkan sebuah stetment perintah print variabel harus didalam kurung"
      ],
      "execution_count": 12,
      "outputs": [
        {
          "output_type": "stream",
          "text": [
            "Selamat Datang Admin\n",
            "Silahkan ambil tempat duduk\n",
            "0\n",
            "1\n",
            "2\n",
            "3\n",
            "4\n",
            "5\n",
            "6\n",
            "7\n",
            "8\n",
            "9\n"
          ],
          "name": "stdout"
        }
      ]
    },
    {
      "cell_type": "markdown",
      "metadata": {
        "id": "FjJuk6DZ9Gwi"
      },
      "source": [
        "**Penulisan Komentar**"
      ]
    },
    {
      "cell_type": "code",
      "metadata": {
        "id": "mP8WmXOo9OHz"
      },
      "source": [
        "MENGGUNAKAN PAGAR \n",
        "\n",
        "#ini adalah komentar\n",
        "# ini juga komentar\n",
        "\n",
        "MENGGUNAKAN TANDA PETIK\n",
        "\"Ini adalah komentar dengan tanda petik ganda\"\n",
        "'Ini juga komentar, tapi dengan tanda petik tunggal'\n",
        "\n",
        "#penulisan komentar tidak disarankan menggunakan tanda petik karena sistem menganggap itu sebuah variabel yang harus ditampilkan"
      ],
      "execution_count": null,
      "outputs": []
    },
    {
      "cell_type": "markdown",
      "metadata": {
        "id": "Bx_QVVKs-1fd"
      },
      "source": [
        "**Input dari Keyboard**"
      ]
    },
    {
      "cell_type": "code",
      "metadata": {
        "colab": {
          "base_uri": "https://localhost:8080/"
        },
        "id": "N96e7nUR-6MZ",
        "outputId": "e9e6dafc-b143-4bc5-a1eb-132eabe5e1c6"
      },
      "source": [
        "#Mengambil input\n",
        "nama = input(\"Siapa nama kamu ? \")\n",
        "umur = input(\"Berapa umur kamu ? \")\n",
        "\n",
        "#Menampilkan output\n",
        "print (\"Hello\",nama,\"umur kamu adalah\",umur,\"tahun\")\n",
        "\n",
        "# perintah input harus diikutkan agar sistem mengetahui bahwa user memasukan sebuah variabel"
      ],
      "execution_count": 13,
      "outputs": [
        {
          "output_type": "stream",
          "text": [
            "Siapa nama kamu ? Adristi\n",
            "Berapa umur kamu ? 20\n",
            "Hello Adristi umur kamu adalah 20 tahun\n"
          ],
          "name": "stdout"
        }
      ]
    },
    {
      "cell_type": "code",
      "metadata": {
        "colab": {
          "base_uri": "https://localhost:8080/"
        },
        "id": "mKOVDb1YAjWF",
        "outputId": "4e5334df-03ce-499c-fea8-a49fe14f5c78"
      },
      "source": [
        "nama_variabel = input(\"sebuah text \")\n",
        "print (\"Hello World!\")\n",
        "print (nama_variabel)\n",
        "print (\"Gabung dengan \" + nama_variabel)"
      ],
      "execution_count": 19,
      "outputs": [
        {
          "output_type": "stream",
          "text": [
            "sebuah text Hai\n",
            "Hello World!\n",
            "Hai\n",
            "Gabung dengan Hai\n"
          ],
          "name": "stdout"
        }
      ]
    }
  ]
}