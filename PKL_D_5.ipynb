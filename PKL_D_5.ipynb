{
  "nbformat": 4,
  "nbformat_minor": 0,
  "metadata": {
    "colab": {
      "name": "PKL D-5.ipynb",
      "provenance": [],
      "authorship_tag": "ABX9TyP++woCohk9/I5rnBbvHsw+",
      "include_colab_link": true
    },
    "kernelspec": {
      "name": "python3",
      "display_name": "Python 3"
    },
    "language_info": {
      "name": "python"
    }
  },
  "cells": [
    {
      "cell_type": "markdown",
      "metadata": {
        "id": "view-in-github",
        "colab_type": "text"
      },
      "source": [
        "<a href=\"https://colab.research.google.com/github/Adristiftitah/PKL/blob/main/PKL_D_5.ipynb\" target=\"_parent\"><img src=\"https://colab.research.google.com/assets/colab-badge.svg\" alt=\"Open In Colab\"/></a>"
      ]
    },
    {
      "cell_type": "code",
      "metadata": {
        "colab": {
          "base_uri": "https://localhost:8080/"
        },
        "id": "Jpyo6Lg60n_Q",
        "outputId": "af25fd20-bcf8-4267-bc03-05b7f8e64e62"
      },
      "source": [
        "print(\"Hello Guru-Guru TKJ!\")\n",
        "print(\"Belajar Python dari Nol\")\n",
        "nama = \"Eljava Mifzal Herbiyan\"\n",
        "print(nama)"
      ],
      "execution_count": 2,
      "outputs": [
        {
          "output_type": "stream",
          "text": [
            "Hello Guru-Guru TKJ!\n",
            "Belajar Python dari Nol\n",
            "Eljava Mifzal Herbiyan\n"
          ],
          "name": "stdout"
        }
      ]
    },
    {
      "cell_type": "markdown",
      "metadata": {
        "id": "UQL9DGbX2V7s"
      },
      "source": [
        "**Penulisan String pada Python**"
      ]
    },
    {
      "cell_type": "code",
      "metadata": {
        "id": "UJQpZZDZ2cJ6"
      },
      "source": [
        "nama = \"Eljava Mifzal Herbiyan\"\n",
        "kelas = \"TKJ - 01\"\n",
        "\n",
        "#tidak menampilkanhasilnya karna fungsi print belum dipanggil"
      ],
      "execution_count": 4,
      "outputs": []
    },
    {
      "cell_type": "markdown",
      "metadata": {
        "id": "J0H9Psru230V"
      },
      "source": [
        "**Penulisan Case pada Python**"
      ]
    },
    {
      "cell_type": "code",
      "metadata": {
        "id": "9g54FizA3L_0"
      },
      "source": [
        ""
      ],
      "execution_count": null,
      "outputs": []
    }
  ]
}